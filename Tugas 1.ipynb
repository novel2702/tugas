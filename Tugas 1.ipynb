weight = 73
height = 1.73

BMI = weight/height**2

print ("BMI anda", round(BMI,2))


# MENGUKUR BMI

print ('BMI anda masuk kategori')

if BMI<15:
    print ("very severely underweight")
elif 15<BMI<16:
    print ('severely underweight')
elif 16<BMI<18.5:
    print ('underweight')
elif 18.5<BMI<25:
    print ('normal')
elif 25<BMI<30:
    print ('overweight')
elif 30<BMI<35:
    print ('moderately obese')
elif 35<BMI<40:
    print ('severely obese')
elif BMI>40:
    print ('very severely obese')
    

