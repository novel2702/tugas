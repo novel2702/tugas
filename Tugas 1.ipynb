{
 "cells": [
  {
   "cell_type": "markdown",
   "metadata": {},
   "source": [
    "# TUGAS 1"
   ]
  },
  {
   "cell_type": "code",
   "execution_count": 7,
   "metadata": {},
   "outputs": [
    {
     "name": "stdout",
     "output_type": "stream",
     "text": [
      "BMI = 24.0\n",
      "BMI anda masuk kategori\n",
      "normal\n"
     ]
    }
   ],
   "source": [
    "weight = 73\n",
    "height = 1.73\n",
    "\n",
    "BMI = weight//height**2\n",
    "print ('BMI =', BMI)\n",
    "\n",
    "# MENGUKUR BMI\n",
    "\n",
    "print ('BMI anda masuk kategori')\n",
    "\n",
    "if BMI<15:\n",
    "    print (\"very severely underweight\")\n",
    "elif 15<BMI<16:\n",
    "    print ('severely underweight')\n",
    "elif 16<BMI<18.5:\n",
    "    print ('underweight')\n",
    "elif 18.5<BMI<25:\n",
    "    print ('normal')\n",
    "elif 25<BMI<30:\n",
    "    print ('overweight')\n",
    "elif 30<BMI<35:\n",
    "    print ('moderately obese')\n",
    "elif 35<BMI<40:\n",
    "    print ('severely obese')\n",
    "elif BMI>40:\n",
    "    print ('very severely obese')\n",
    "    \n",
    "\n"
   ]
  },
  {
   "cell_type": "code",
   "execution_count": null,
   "metadata": {},
   "outputs": [],
   "source": []
  }
 ],
 "metadata": {
  "kernelspec": {
   "display_name": "Python 3",
   "language": "python",
   "name": "python3"
  },
  "language_info": {
   "codemirror_mode": {
    "name": "ipython",
    "version": 3
   },
   "file_extension": ".py",
   "mimetype": "text/x-python",
   "name": "python",
   "nbconvert_exporter": "python",
   "pygments_lexer": "ipython3",
   "version": "3.7.0"
  }
 },
 "nbformat": 4,
 "nbformat_minor": 2
}
