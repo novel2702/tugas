{
 "cells": [
  {
   "cell_type": "markdown",
   "metadata": {},
   "source": [
    "# LATIHAN 2 - Tugas List Nilai\n",
    "\n",
    "Diberikan sekumpulan Nilai Random antara 0 sampai dengan 100 sebanyak 250 nilai. Buatlah program untuk melakukan hal berikut:\n",
    "\n",
    "    Tampilkan Angka Ganjil dari ke 250 nilai tersebut\n",
    "    Tampilkan berapa banyak yang mendapatkan nilai lebih dari 70\n",
    "    Tampilkan standar deviasi dari sekumpulan nilai tersebut\n",
    "    Tampilkan nilai maksimum dan minimum\n",
    "    Tampilkan modus dari sekumpulan nilai tersebut\n",
    "\n"
   ]
  },
  {
   "cell_type": "code",
   "execution_count": 1,
   "metadata": {},
   "outputs": [
    {
     "name": "stdout",
     "output_type": "stream",
     "text": [
      "[29, 52, 98, 65, 54, 23, 61, 40, 64, 89, 13, 88, 37, 50, 47, 22, 37, 46, 30, 60, 42, 89, 68, 84, 49, 62, 44, 41, 33, 42, 9, 81, 71, 8, 94, 46, 44, 12, 42, 88, 2, 24, 37, 36, 59, 67, 34, 54, 2, 5, 81, 11, 20, 12, 10, 89, 98, 8, 74, 63, 31, 44, 16, 18, 30, 84, 46, 2, 95, 80, 17, 18, 3, 77, 52, 76, 51, 58, 28, 60, 52, 57, 3, 87, 91, 78, 64, 33, 43, 50, 66, 84, 51, 69, 55, 40, 20, 12, 54, 98, 27, 80, 6, 51, 45, 33, 1, 28, 45, 70, 97, 53, 18, 3, 68, 54, 35, 38, 98, 96, 76, 86, 87, 2, 61, 8, 43, 43, 36, 97, 7, 35, 51, 95, 73, 71, 97, 85, 84, 84, 29, 21, 28, 35, 74, 67, 41, 77, 36, 88, 1, 4, 96, 7, 36, 36, 57, 65, 42, 96, 69, 50, 23, 70, 16, 50, 45, 67, 2, 90, 65, 47, 49, 42, 15, 93, 86, 52, 72, 45, 25, 2, 18, 3, 54, 1, 83, 36, 82, 43, 24, 18, 29, 31, 82, 30, 98, 61, 75, 61, 52, 69, 98, 2, 70, 3, 53, 7, 88, 6, 74, 6, 76, 70, 12, 70, 31, 98, 94, 54, 3, 85, 28, 28, 36, 59, 53, 63, 24, 69, 60, 65, 11, 45, 11, 89, 60, 29, 39, 82, 94, 86, 71, 19, 40, 82, 9, 87, 2, 93]\n"
     ]
    }
   ],
   "source": [
    "import random\n",
    "\n",
    "# GENERATE RANDOM\n",
    "nilaiTugas = []\n",
    "for i in range(250):\n",
    "    nilaiTugas.append(random.randrange(1,100,1))\n",
    "\n",
    "print(nilaiTugas)\n",
    "\n",
    "# TAMPILKAN:\n",
    "# ganjil\n",
    "# nilai > 70\n",
    "# standar deviasi\n",
    "# maksimum\n",
    "# minimum\n",
    "# modus"
   ]
  },
  {
   "cell_type": "code",
   "execution_count": 77,
   "metadata": {},
   "outputs": [
    {
     "name": "stdout",
     "output_type": "stream",
     "text": [
      "[29, 65, 23, 61, 89, 13, 37, 47, 37, 89, 49, 41, 33, 9, 81, 71, 37, 59, 67, 5, 81, 11, 89, 63, 31, 95, 17, 3, 77, 51, 57, 3, 87, 91, 33, 43, 51, 69, 55, 27, 51, 45, 33, 1, 45, 97, 53, 3, 35, 87, 61, 43, 43, 97, 7, 35, 51, 95, 73, 71, 97, 85, 29, 21, 35, 67, 41, 77, 1, 7, 57, 65, 69, 23, 45, 67, 65, 47, 49, 15, 93, 45, 25, 3, 1, 83, 43, 29, 31, 61, 75, 61, 69, 3, 53, 7, 31, 3, 85, 59, 53, 63, 69, 65, 11, 45, 11, 89, 29, 39, 71, 19, 9, 87, 93]\n"
     ]
    }
   ],
   "source": [
    "#membuat list kosong untuk bilangan ganjil\n",
    "ganjil=[]\n",
    "\n",
    "for x in nilaiTugas:\n",
    "    if x%2!=0:\n",
    "        ganjil.append(x)\n",
    "\n",
    "#menampilkan nilai ganjil pada kumpulan data diatas\n",
    "print(ganjil)"
   ]
  },
  {
   "cell_type": "code",
   "execution_count": 76,
   "metadata": {},
   "outputs": [
    {
     "name": "stdout",
     "output_type": "stream",
     "text": [
      "List : [98, 89, 88, 89, 84, 81, 71, 94, 88, 81, 89, 98, 74, 84, 95, 80, 77, 76, 87, 91, 78, 84, 98, 80, 97, 98, 96, 76, 86, 87, 97, 95, 73, 71, 97, 85, 84, 84, 74, 77, 88, 96, 96, 90, 93, 86, 72, 83, 82, 82, 98, 75, 98, 88, 74, 76, 98, 94, 85, 89, 82, 94, 86, 71, 82, 87, 93]\n",
      "Banyaknya nilai  67 data\n"
     ]
    }
   ],
   "source": [
    "#membuat list kosong untuk bilangan lebih dari 70\n",
    "lebih70=[]\n",
    "\n",
    "for y in nilaiTugas:\n",
    "    if y>70:\n",
    "        lebih70.append(y)\n",
    "        \n",
    "#menampilkan nilai-nilai yang lebih dari 70        \n",
    "print(\"List :\", lebih70)\n",
    "\n",
    "print(\"Banyaknya nilai \", len(lebih70), 'data')"
   ]
  },
  {
   "cell_type": "code",
   "execution_count": 29,
   "metadata": {},
   "outputs": [
    {
     "name": "stdout",
     "output_type": "stream",
     "text": [
      "28.83\n"
     ]
    }
   ],
   "source": [
    "\n",
    "total = 0\n",
    "for b in nilaiTugas:\n",
    "    total = total+ b\n",
    "rata = total / len(nilaiTugas)\n",
    "\n",
    "\n",
    "stdev = 0\n",
    "for b in nilaiTugas:\n",
    "    stdev = stdev+(b - rata)**(2)\n",
    "\n",
    "standardeviasi = (stdev/(len(nilaiTugas)-1))**(0.5)\n",
    "print(round (standardeviasi,2))"
   ]
  },
  {
   "cell_type": "code",
   "execution_count": 71,
   "metadata": {},
   "outputs": [
    {
     "name": "stdout",
     "output_type": "stream",
     "text": [
      "nilai max 98\n",
      "nilai min 1\n"
     ]
    }
   ],
   "source": [
    "max_temp = 0\n",
    "min_temp = 1\n",
    "\n",
    "for i in nilaiTugas:\n",
    "    if i > max_temp:\n",
    "        max_temp = i\n",
    "    elif i <= min_temp:\n",
    "        min_temp = i\n",
    "\n",
    "print('nilai max',max_temp)\n",
    "print('nilai min',min_temp)"
   ]
  },
  {
   "cell_type": "code",
   "execution_count": 65,
   "metadata": {},
   "outputs": [
    {
     "name": "stdout",
     "output_type": "stream",
     "text": [
      "Modus : 2\n"
     ]
    }
   ],
   "source": [
    "mak=0\n",
    "\n",
    "#membuat list data menjadi dictionary kosong\n",
    "modus={}\n",
    "\n",
    "#menghitung setiap elemen pada list nilaiTugas kemudian menampilkan jumlahnya dengan format dictionary {key:value}\n",
    "for w in nilaiTugas:\n",
    "    count = nilaiTugas.count(w)\n",
    "    modus.update({w:count})\n",
    "\n",
    "#membandingkan jumlah tiap elemen\n",
    "for key in modus:\n",
    "    if modus[key]>maks:\n",
    "        maks=modus[key]\n",
    "\n",
    "#menampilkan elemen dengan frekuensi terbanyak (modus dari kumpulan data)\n",
    "for key in modus:\n",
    "    if modus[key]==maks:\n",
    "        print(\"Modus :\", key)"
   ]
  }
 ],
 "metadata": {
  "kernelspec": {
   "display_name": "Python 3",
   "language": "python",
   "name": "python3"
  },
  "language_info": {
   "codemirror_mode": {
    "name": "ipython",
    "version": 3
   },
   "file_extension": ".py",
   "mimetype": "text/x-python",
   "name": "python",
   "nbconvert_exporter": "python",
   "pygments_lexer": "ipython3",
   "version": "3.7.0"
  }
 },
 "nbformat": 4,
 "nbformat_minor": 2
}
